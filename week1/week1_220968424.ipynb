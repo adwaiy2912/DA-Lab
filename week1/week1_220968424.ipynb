{
 "cells": [
  {
   "cell_type": "markdown",
   "id": "631219db",
   "metadata": {},
   "source": [
    "## Name: Adwaiy Singh\n",
    "## Reg No.: 220968424\n",
    "## Class: DSE-A\n",
    "## Batch: A2\n",
    "\n",
    "# Week 1"
   ]
  },
  {
   "cell_type": "markdown",
   "id": "40aa158c",
   "metadata": {},
   "source": [
    "### Create Python program to find the average of 10 numbers using while loop"
   ]
  },
  {
   "cell_type": "code",
   "execution_count": 2,
   "id": "e9eb59f1",
   "metadata": {},
   "outputs": [
    {
     "name": "stdout",
     "output_type": "stream",
     "text": [
      "Enter number: 1\n",
      "Enter number: 2\n",
      "Enter number: 3\n",
      "Enter number: 4\n",
      "Enter number: 5\n",
      "Enter number: 6\n",
      "Enter number: 7\n",
      "Enter number: 8\n",
      "Enter number: 9\n",
      "Enter number: 10\n",
      "Average of the 10 numbers is 5.5\n"
     ]
    }
   ],
   "source": [
    "i = 1\n",
    "sum = 0\n",
    "\n",
    "while (i <= 10):\n",
    "    x = int(input(\"Enter number: \"))\n",
    "    sum += x\n",
    "    i += 1\n",
    "    \n",
    "print(\"Average of the 10 numbers is\",sum/10);"
   ]
  },
  {
   "cell_type": "markdown",
   "id": "8b203a2c",
   "metadata": {},
   "source": [
    "### Create Python program to find the geometric mean of n numbers"
   ]
  },
  {
   "cell_type": "code",
   "execution_count": 3,
   "id": "2887ed16",
   "metadata": {},
   "outputs": [
    {
     "name": "stdout",
     "output_type": "stream",
     "text": [
      "Enter total numbers: 4\n",
      "Enter num: 2\n",
      "Enter num: 5\n",
      "Enter num: 7\n",
      "Enter num: 9\n",
      "Geometric mean of n numbers is 5.009970139234591\n"
     ]
    }
   ],
   "source": [
    "n = int(input(\"Enter total numbers: \"))\n",
    "prod = 1\n",
    "temp = n\n",
    "\n",
    "while (temp > 0):\n",
    "    prod *= int(input(\"Enter num: \"))\n",
    "    temp -= 1\n",
    "    \n",
    "print(\"Geometric mean of n numbers is\",prod**(1/n))"
   ]
  },
  {
   "cell_type": "markdown",
   "id": "2b778d9b",
   "metadata": {},
   "source": [
    "### Create Python program to check whether the given integer is a prime number or not"
   ]
  },
  {
   "cell_type": "code",
   "execution_count": 4,
   "id": "9771ca55",
   "metadata": {},
   "outputs": [
    {
     "name": "stdout",
     "output_type": "stream",
     "text": [
      "Enter num: 7\n",
      "7 is a prime number\n"
     ]
    }
   ],
   "source": [
    "n = int(input(\"Enter num: \"))\n",
    "isPrime = True\n",
    "\n",
    "for i in range (2, (int)(n/2)):\n",
    "    if n%i == 0:\n",
    "        isPrime = False\n",
    "        break\n",
    "        \n",
    "if isPrime:\n",
    "    print(n, \"is a prime number\")\n",
    "else:\n",
    "    print(n,\"is not a prime number\")"
   ]
  },
  {
   "cell_type": "markdown",
   "id": "b604c5d1",
   "metadata": {},
   "source": [
    "### Create Python program to implement linear search and implement binary search"
   ]
  },
  {
   "cell_type": "code",
   "execution_count": 5,
   "id": "c7377b7d",
   "metadata": {
    "scrolled": true
   },
   "outputs": [
    {
     "name": "stdout",
     "output_type": "stream",
     "text": [
      "Enter array length: 5\n",
      "Enter array element: 3\n",
      "Enter array element: 7\n",
      "Enter array element: 6\n",
      "Enter array element: 5\n",
      "Enter array element: 8\n",
      "Enter element to search: 2\n",
      "Element not found\n",
      "\n",
      "Element not found\n"
     ]
    }
   ],
   "source": [
    "n = int(input(\"Enter array length: \"))\n",
    "arr = []\n",
    "for i in range(n):\n",
    "    arr.append(int(input(\"Enter array element: \")))\n",
    "\n",
    "num = int(input(\"Enter element to search: \"))\n",
    "\n",
    "# linear search\n",
    "for i in range(n):\n",
    "    if arr[i] == num:\n",
    "        print(\"Element\", num, \"found using linear search at\", i);\n",
    "        break\n",
    "else:\n",
    "    print(\"Element not found\")\n",
    "    \n",
    "print()\n",
    "\n",
    "#binary search\n",
    "start = 0\n",
    "end = n\n",
    "\n",
    "while (start <= end):\n",
    "    mid = int(end - (end-start)/2)\n",
    "    if arr[mid] == num:\n",
    "        print(\"Element\", num, \"found using binary search at\", mid);\n",
    "        break\n",
    "    elif arr[mid] < num:\n",
    "        start = mid+1;\n",
    "    else:\n",
    "        end = mid-1;\n",
    "else:\n",
    "    print(\"Element not found\")"
   ]
  },
  {
   "cell_type": "markdown",
   "id": "d14b4f05",
   "metadata": {},
   "source": [
    "### Using math package, Create Python program to find the area of a triangle whose sides are given"
   ]
  },
  {
   "cell_type": "code",
   "execution_count": 6,
   "id": "6e6bb0a0",
   "metadata": {},
   "outputs": [
    {
     "name": "stdout",
     "output_type": "stream",
     "text": [
      "Enter 1st side length: 3\n",
      "Enter 2nd side length: 5\n",
      "Enter 3rd side length: 7\n",
      "Area of triangle is 6.49519052838329\n"
     ]
    }
   ],
   "source": [
    "import math as m\n",
    "\n",
    "a = int(input(\"Enter 1st side length: \"))\n",
    "b = int(input(\"Enter 2nd side length: \"))\n",
    "c = int(input(\"Enter 3rd side length: \"))\n",
    "s = (a+b+c)/2\n",
    "\n",
    "print(\"Area of triangle is\",m.sqrt(s*(s-a)*(s-b)*(s-c)))"
   ]
  },
  {
   "cell_type": "markdown",
   "id": "7cc37bb6",
   "metadata": {},
   "source": [
    "# EXERCISE 1: - Introduction to Panda\n",
    "## Data frame creation and manipulation"
   ]
  },
  {
   "cell_type": "markdown",
   "id": "617d2b98",
   "metadata": {},
   "source": [
    "### Create a data frame with details of 10 students and columns as Roll Number, Name, Gender, Marks1, Marks2, Marks3."
   ]
  },
  {
   "cell_type": "code",
   "execution_count": 1,
   "id": "932d908e",
   "metadata": {},
   "outputs": [],
   "source": [
    "import pandas as pd\n",
    "\n",
    "sample = {\n",
    "    \"roll_no\": [1,2,3,4,5,6,7,8,9,10],\n",
    "    \"name\": [\"A\",\"B\",\"C\",\"D\",\"E\",\"F\",\"G\",\"H\",\"I\",\"J\"],\n",
    "    \"gender\": [\"F\", \"M\", \"M\", \"M\", \"F\", \"M\", \"G\", \"M\", \"F\", \"M\"],\n",
    "    \"marks1\": [88,90,75,92,82,89,96,90,81,86],\n",
    "    \"marks2\": [98,94,78,84,79,91,93,95,87,96],\n",
    "    \"marks3\": [91,91,83,91,98,92,91,96,86,97]\n",
    "}\n",
    "\n",
    "df = pd.DataFrame(sample)"
   ]
  },
  {
   "cell_type": "markdown",
   "id": "78a7ac05",
   "metadata": {},
   "source": [
    "#### 2. Create a new column with total marks"
   ]
  },
  {
   "cell_type": "code",
   "execution_count": 2,
   "id": "8332fdda",
   "metadata": {},
   "outputs": [],
   "source": [
    "df['total'] = df['marks1'] + df['marks2'] + df['marks3']"
   ]
  },
  {
   "cell_type": "markdown",
   "id": "1e4690e0",
   "metadata": {},
   "source": [
    "\n",
    "#### 3. Find the lowest marks in Marks1"
   ]
  },
  {
   "cell_type": "code",
   "execution_count": 3,
   "id": "5a2d95ea",
   "metadata": {},
   "outputs": [
    {
     "data": {
      "text/plain": [
       "75"
      ]
     },
     "execution_count": 3,
     "metadata": {},
     "output_type": "execute_result"
    }
   ],
   "source": [
    "df['marks1'].min()"
   ]
  },
  {
   "cell_type": "markdown",
   "id": "76d2873e",
   "metadata": {},
   "source": [
    "\n",
    "#### 4. Find the Highest marks in Marks2"
   ]
  },
  {
   "cell_type": "code",
   "execution_count": 4,
   "id": "d9c5a8d6",
   "metadata": {},
   "outputs": [
    {
     "data": {
      "text/plain": [
       "98"
      ]
     },
     "execution_count": 4,
     "metadata": {},
     "output_type": "execute_result"
    }
   ],
   "source": [
    "df['marks2'].max()"
   ]
  },
  {
   "cell_type": "markdown",
   "id": "ac8af2c2",
   "metadata": {},
   "source": [
    "\n",
    "#### 5. Find the average marks in Marks3"
   ]
  },
  {
   "cell_type": "code",
   "execution_count": 5,
   "id": "d5a1d6a2",
   "metadata": {},
   "outputs": [
    {
     "data": {
      "text/plain": [
       "91.6"
      ]
     },
     "execution_count": 5,
     "metadata": {},
     "output_type": "execute_result"
    }
   ],
   "source": [
    "df['marks3'].mean()"
   ]
  },
  {
   "cell_type": "markdown",
   "id": "00e2197d",
   "metadata": {},
   "source": [
    "\n",
    "#### 6. Find student name with highest average"
   ]
  },
  {
   "cell_type": "code",
   "execution_count": 7,
   "id": "2443a3f5",
   "metadata": {},
   "outputs": [
    {
     "data": {
      "text/plain": [
       "'H'"
      ]
     },
     "execution_count": 7,
     "metadata": {},
     "output_type": "execute_result"
    }
   ],
   "source": [
    "df['name'][df['total'].idxmax()]"
   ]
  },
  {
   "cell_type": "markdown",
   "id": "fd580a30",
   "metadata": {},
   "source": [
    "\n",
    "#### 7. Find how many students failed in Marks2 (<40)"
   ]
  },
  {
   "cell_type": "code",
   "execution_count": 34,
   "id": "a68d7968",
   "metadata": {},
   "outputs": [
    {
     "data": {
      "text/plain": [
       "roll_no    0\n",
       "name       0\n",
       "gender     0\n",
       "marks1     0\n",
       "marks2     0\n",
       "marks3     0\n",
       "total      0\n",
       "dtype: int64"
      ]
     },
     "execution_count": 34,
     "metadata": {},
     "output_type": "execute_result"
    }
   ],
   "source": [
    "df[df['marks2'] < 40].count()"
   ]
  },
  {
   "cell_type": "markdown",
   "id": "5ac40c51",
   "metadata": {},
   "source": []
  },
  {
   "cell_type": "code",
   "execution_count": null,
   "id": "838d87f4",
   "metadata": {},
   "outputs": [],
   "source": []
  }
 ],
 "metadata": {
  "kernelspec": {
   "display_name": "Python 3 (ipykernel)",
   "language": "python",
   "name": "python3"
  },
  "language_info": {
   "codemirror_mode": {
    "name": "ipython",
    "version": 3
   },
   "file_extension": ".py",
   "mimetype": "text/x-python",
   "name": "python",
   "nbconvert_exporter": "python",
   "pygments_lexer": "ipython3",
   "version": "3.11.4"
  }
 },
 "nbformat": 4,
 "nbformat_minor": 5
}
