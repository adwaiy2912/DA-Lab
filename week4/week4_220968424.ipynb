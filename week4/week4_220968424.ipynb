{
 "cells": [
  {
   "cell_type": "markdown",
   "id": "92ec8201",
   "metadata": {},
   "source": [
    "## Name: Adwaiy Singh\n",
    "## Reg No.: 220968424\n",
    "## Class: DSE-A\n",
    "## Batch: A2\n",
    "\n",
    "# Week 4\n",
    "\n",
    "# EXERCISE 1: Data Analysis using CEREALS dataset"
   ]
  },
  {
   "cell_type": "markdown",
   "id": "5b338027",
   "metadata": {},
   "source": [
    "## Use the prepared or preprocessed data to answer the following:\n",
    "#### 1. Cross tabulate the type of cereal (hot vs cold) against the manufacturer"
   ]
  },
  {
   "cell_type": "code",
   "execution_count": 2,
   "id": "28f16da8",
   "metadata": {},
   "outputs": [
    {
     "data": {
      "text/html": [
       "<div>\n",
       "<style scoped>\n",
       "    .dataframe tbody tr th:only-of-type {\n",
       "        vertical-align: middle;\n",
       "    }\n",
       "\n",
       "    .dataframe tbody tr th {\n",
       "        vertical-align: top;\n",
       "    }\n",
       "\n",
       "    .dataframe thead th {\n",
       "        text-align: right;\n",
       "    }\n",
       "</style>\n",
       "<table border=\"1\" class=\"dataframe\">\n",
       "  <thead>\n",
       "    <tr style=\"text-align: right;\">\n",
       "      <th>mfr</th>\n",
       "      <th>A</th>\n",
       "      <th>G</th>\n",
       "      <th>K</th>\n",
       "      <th>N</th>\n",
       "      <th>P</th>\n",
       "      <th>Q</th>\n",
       "      <th>R</th>\n",
       "    </tr>\n",
       "    <tr>\n",
       "      <th>type</th>\n",
       "      <th></th>\n",
       "      <th></th>\n",
       "      <th></th>\n",
       "      <th></th>\n",
       "      <th></th>\n",
       "      <th></th>\n",
       "      <th></th>\n",
       "    </tr>\n",
       "  </thead>\n",
       "  <tbody>\n",
       "    <tr>\n",
       "      <th>C</th>\n",
       "      <td>0</td>\n",
       "      <td>22</td>\n",
       "      <td>23</td>\n",
       "      <td>4</td>\n",
       "      <td>9</td>\n",
       "      <td>7</td>\n",
       "      <td>8</td>\n",
       "    </tr>\n",
       "    <tr>\n",
       "      <th>H</th>\n",
       "      <td>1</td>\n",
       "      <td>0</td>\n",
       "      <td>0</td>\n",
       "      <td>1</td>\n",
       "      <td>0</td>\n",
       "      <td>1</td>\n",
       "      <td>0</td>\n",
       "    </tr>\n",
       "  </tbody>\n",
       "</table>\n",
       "</div>"
      ],
      "text/plain": [
       "mfr   A   G   K  N  P  Q  R\n",
       "type                       \n",
       "C     0  22  23  4  9  7  8\n",
       "H     1   0   0  1  0  1  0"
      ]
     },
     "execution_count": 2,
     "metadata": {},
     "output_type": "execute_result"
    }
   ],
   "source": [
    "import pandas as pd\n",
    "import seaborn as sns\n",
    "\n",
    "df = pd.read_csv(\"Cereals.csv\")\n",
    "pd.crosstab(df['type'], df['mfr'])"
   ]
  },
  {
   "cell_type": "markdown",
   "id": "f64fa480",
   "metadata": {},
   "source": [
    "#### 2. Which is the cereal with the best rating, worst rating?"
   ]
  },
  {
   "cell_type": "code",
   "execution_count": 3,
   "id": "b37c0d60",
   "metadata": {},
   "outputs": [
    {
     "name": "stdout",
     "output_type": "stream",
     "text": [
      "All-BranwithExtraFiber\n",
      "CapnCrunch\n"
     ]
    }
   ],
   "source": [
    "print(df['name'][df['rating'].idxmax()])\n",
    "print(df['name'][df['rating'].idxmin()])"
   ]
  },
  {
   "cell_type": "markdown",
   "id": "a1c609fc",
   "metadata": {},
   "source": [
    "#### 3. Plot a side-by-side boxplot comparing the consumer rating of hot vs. cold cereals. "
   ]
  },
  {
   "cell_type": "code",
   "execution_count": 4,
   "id": "b2dfff10",
   "metadata": {},
   "outputs": [
    {
     "data": {
      "text/plain": [
       "<Axes: xlabel='type', ylabel='rating'>"
      ]
     },
     "execution_count": 4,
     "metadata": {},
     "output_type": "execute_result"
    },
    {
     "data": {
      "image/png": "[encoded data removed]",
      "text/plain": [
       "<Figure size 640x480 with 1 Axes>"
      ]
     },
     "metadata": {},
     "output_type": "display_data"
    }
   ],
   "source": [
    "sns.boxplot(data=df, x='type', y='rating')"
   ]
  },
  {
   "cell_type": "markdown",
   "id": "bd02d1d8",
   "metadata": {},
   "source": [
    "#### 4. Is there a relation between sugars, calories, carbs, and fat?"
   ]
  },
  {
   "cell_type": "code",
   "execution_count": 8,
   "id": "8235c887",
   "metadata": {},
   "outputs": [
    {
     "name": "stdout",
     "output_type": "stream",
     "text": [
      "            sugars  calories     carbo       fat\n",
      "sugars    1.000000  0.574758 -0.501086  0.302610\n",
      "calories  0.574758  1.000000  0.207539  0.510630\n",
      "carbo    -0.501086  0.207539  1.000000 -0.313635\n",
      "fat       0.302610  0.510630 -0.313635  1.000000\n"
     ]
    }
   ],
   "source": [
    "numeric_columns = ['sugars', 'calories', 'carbo', 'fat']\n",
    "df[numeric_columns] = df[numeric_columns].apply(pd.to_numeric, errors='coerce')\n",
    "\n",
    "print(df[numeric_columns].corr())"
   ]
  },
  {
   "cell_type": "markdown",
   "id": "a83b22e1",
   "metadata": {},
   "source": [
    "#### 5. Which manufacturers produce cereal with highest calories?"
   ]
  },
  {
   "cell_type": "code",
   "execution_count": 6,
   "id": "0881867f",
   "metadata": {},
   "outputs": [
    {
     "data": {
      "text/plain": [
       "'K'"
      ]
     },
     "execution_count": 6,
     "metadata": {},
     "output_type": "execute_result"
    }
   ],
   "source": [
    "df['mfr'][df['calories'].idxmax()]"
   ]
  },
  {
   "cell_type": "markdown",
   "id": "3f1dd73c",
   "metadata": {},
   "source": [
    "#### 6. Use correlation tests and visualization to identify if the two variables calories and consumer rating associated?"
   ]
  },
  {
   "cell_type": "code",
   "execution_count": 9,
   "id": "00d5834e",
   "metadata": {},
   "outputs": [
    {
     "name": "stdout",
     "output_type": "stream",
     "text": [
      "-0.6743360496799723\n"
     ]
    },
    {
     "data": {
      "text/plain": [
       "<Axes: xlabel='calories', ylabel='rating'>"
      ]
     },
     "execution_count": 9,
     "metadata": {},
     "output_type": "execute_result"
    },
    {
     "data": {
      "image/png": "[encoded data removed]",
      "text/plain": [
       "<Figure size 640x480 with 1 Axes>"
      ]
     },
     "metadata": {},
     "output_type": "display_data"
    }
   ],
   "source": [
    "print(df['calories'].corr(df['rating']))\n",
    "sns.barplot(data=df, x='calories', y='rating')"
   ]
  },
  {
   "cell_type": "markdown",
   "id": "7f2ec7a5",
   "metadata": {},
   "source": [
    "#### 7. Use correlation tests and visualization to identify if the two variables shelf and consumer rating associated? "
   ]
  },
  {
   "cell_type": "code",
   "execution_count": 10,
   "id": "e8fc3fba",
   "metadata": {},
   "outputs": [
    {
     "name": "stdout",
     "output_type": "stream",
     "text": [
      "0.0019730207509652386\n"
     ]
    },
    {
     "data": {
      "text/plain": [
       "<Axes: xlabel='shelf', ylabel='rating'>"
      ]
     },
     "execution_count": 10,
     "metadata": {},
     "output_type": "execute_result"
    },
    {
     "data": {
      "image/png": "[encoded data removed]",
      "text/plain": [
       "<Figure size 640x480 with 1 Axes>"
      ]
     },
     "metadata": {},
     "output_type": "display_data"
    }
   ],
   "source": [
    "print(df['shelf'].corr(df['rating']))\n",
    "sns.barplot(data=df, x='shelf', y='rating')"
   ]
  },
  {
   "cell_type": "markdown",
   "id": "7eea2b39",
   "metadata": {},
   "source": [
    "#### 8. Is there a relation between manufacturer and rating?"
   ]
  },
  {
   "cell_type": "code",
   "execution_count": 11,
   "id": "8b0ddd00",
   "metadata": {},
   "outputs": [
    {
     "name": "stdout",
     "output_type": "stream",
     "text": [
      "No or very little correlation\n"
     ]
    }
   ],
   "source": [
    "var = df['shelf'].corr(df['rating'])\n",
    "if (var > -0.04 and var < 0.4):\n",
    "    print(\"No or very little correlation\")\n",
    "else:\n",
    "    print(\"Medium to high correlation\")"
   ]
  },
  {
   "cell_type": "markdown",
   "id": "ec0aca7d",
   "metadata": {},
   "source": [
    "#### 9. Which nutrients are essential for a good rating for a cereal?"
   ]
  },
  {
   "cell_type": "code",
   "execution_count": 13,
   "id": "49340ab1",
   "metadata": {},
   "outputs": [
    {
     "name": "stdout",
     "output_type": "stream",
     "text": [
      "Correlation between calories and rating: -0.6743360496799723\n",
      "Correlation between protein and rating: 0.45368316809056336\n",
      "Correlation between fat and rating: -0.41843890124152616\n",
      "Correlation between sodium and rating: -0.4020771797632025\n",
      "Correlation between fiber and rating: 0.5572418136133619\n",
      "Correlation between carbo and rating: 0.16135708070042998\n",
      "Correlation between sugars and rating: -0.7761813737204284\n",
      "Correlation between potass and rating: 0.3766601976154804\n",
      "Correlation between vitamins and rating: -0.24251614776429334\n",
      "Correlation between rating and rating: 1.0\n"
     ]
    }
   ],
   "source": [
    "numeric_columns = ['calories', 'protein', 'fat', 'sodium', 'fiber', 'carbo', 'sugars', 'potass', 'vitamins', 'rating']\n",
    "df[numeric_columns] = df[numeric_columns].apply(pd.to_numeric, errors='coerce')\n",
    "\n",
    "# Calculate the correlation\n",
    "corrList = df[numeric_columns].corr()\n",
    "corrList = corrList['rating']\n",
    "\n",
    "for nutrient, corr in corrList.items():\n",
    "    print(f'Correlation between {nutrient} and rating: {corr}')"
   ]
  },
  {
   "cell_type": "markdown",
   "id": "32730b41",
   "metadata": {},
   "source": [
    "#### 10. Design a Linear regression model to predict the rating of a cereal based on top 3 related nutrients. Tabulate the accuracy of the model using an 80, 20 split."
   ]
  },
  {
   "cell_type": "markdown",
   "id": "79717fd5",
   "metadata": {},
   "source": [
    "# EXERCISE 2 – Descriptive Analytics and Visualization using Matplotlib, Seaborn: \n",
    "### (Cross tabulation, distributions, Multi-variate analysis, Various Plots)\n",
    "## Use the IPL datasets and answer the following:\n",
    "#### 1) Count the total number of matches conducted in the year 2008"
   ]
  },
  {
   "cell_type": "code",
   "execution_count": 1,
   "id": "6abfa6c9",
   "metadata": {},
   "outputs": [
    {
     "data": {
      "text/plain": [
       "2008    58\n",
       "Name: season, dtype: int64"
      ]
     },
     "execution_count": 1,
     "metadata": {},
     "output_type": "execute_result"
    }
   ],
   "source": [
    "import pandas as pd\n",
    "import seaborn as sns\n",
    "\n",
    "df1 = pd.read_csv(\"deliveries.csv\")\n",
    "df2 = pd.read_csv(\"matches.csv\")\n",
    "\n",
    "df2[df2['season'] == 2008]['season'].value_counts()"
   ]
  },
  {
   "cell_type": "markdown",
   "id": "cce5a59c",
   "metadata": {},
   "source": [
    "#### 2) Find the city name where maximum and minimum number of matches conducted."
   ]
  },
  {
   "cell_type": "code",
   "execution_count": 2,
   "id": "2d870c7b",
   "metadata": {},
   "outputs": [
    {
     "name": "stdout",
     "output_type": "stream",
     "text": [
      "Mumbai\n",
      "Bloemfontein\n"
     ]
    }
   ],
   "source": [
    "print(df2['city'].value_counts().idxmax())\n",
    "print(df2['city'].value_counts().idxmin())"
   ]
  },
  {
   "cell_type": "markdown",
   "id": "337e22a4",
   "metadata": {},
   "source": [
    "#### 3) Find total count of matches city wise."
   ]
  },
  {
   "cell_type": "code",
   "execution_count": 3,
   "id": "dffa616a",
   "metadata": {},
   "outputs": [
    {
     "data": {
      "text/plain": [
       "Mumbai            101\n",
       "Kolkata            77\n",
       "Delhi              74\n",
       "Bangalore          66\n",
       "Hyderabad          64\n",
       "Chennai            57\n",
       "Jaipur             47\n",
       "Chandigarh         46\n",
       "Pune               38\n",
       "Durban             15\n",
       "Bengaluru          14\n",
       "Visakhapatnam      13\n",
       "Centurion          12\n",
       "Ahmedabad          12\n",
       "Rajkot             10\n",
       "Mohali             10\n",
       "Indore              9\n",
       "Dharamsala          9\n",
       "Johannesburg        8\n",
       "Cuttack             7\n",
       "Ranchi              7\n",
       "Port Elizabeth      7\n",
       "Cape Town           7\n",
       "Abu Dhabi           7\n",
       "Sharjah             6\n",
       "Raipur              6\n",
       "Kochi               5\n",
       "Kanpur              4\n",
       "Nagpur              3\n",
       "Kimberley           3\n",
       "East London         3\n",
       "Bloemfontein        2\n",
       "Name: city, dtype: int64"
      ]
     },
     "execution_count": 3,
     "metadata": {},
     "output_type": "execute_result"
    }
   ],
   "source": [
    "df2['city'].value_counts()"
   ]
  },
  {
   "cell_type": "markdown",
   "id": "115925db",
   "metadata": {},
   "source": [
    "#### 4) Find the Team which is maximum and minimum toss winner."
   ]
  },
  {
   "cell_type": "code",
   "execution_count": 4,
   "id": "114405d1",
   "metadata": {},
   "outputs": [
    {
     "name": "stdout",
     "output_type": "stream",
     "text": [
      "Mumbai Indians\n",
      "Rising Pune Supergiant\n"
     ]
    }
   ],
   "source": [
    "print(df2['toss_winner'].value_counts().idxmax())\n",
    "print(df2['toss_winner'].value_counts().idxmin())"
   ]
  },
  {
   "cell_type": "markdown",
   "id": "390d5815",
   "metadata": {},
   "source": [
    "\n",
    "#### 5) Check the toss decision that the team has taken."
   ]
  },
  {
   "cell_type": "code",
   "execution_count": 5,
   "id": "a9e20006",
   "metadata": {},
   "outputs": [
    {
     "data": {
      "text/html": [
       "<div>\n",
       "<style scoped>\n",
       "    .dataframe tbody tr th:only-of-type {\n",
       "        vertical-align: middle;\n",
       "    }\n",
       "\n",
       "    .dataframe tbody tr th {\n",
       "        vertical-align: top;\n",
       "    }\n",
       "\n",
       "    .dataframe thead th {\n",
       "        text-align: right;\n",
       "    }\n",
       "</style>\n",
       "<table border=\"1\" class=\"dataframe\">\n",
       "  <thead>\n",
       "    <tr style=\"text-align: right;\">\n",
       "      <th>toss_decision</th>\n",
       "      <th>bat</th>\n",
       "      <th>field</th>\n",
       "    </tr>\n",
       "    <tr>\n",
       "      <th>toss_winner</th>\n",
       "      <th></th>\n",
       "      <th></th>\n",
       "    </tr>\n",
       "  </thead>\n",
       "  <tbody>\n",
       "    <tr>\n",
       "      <th>Chennai Super Kings</th>\n",
       "      <td>48</td>\n",
       "      <td>41</td>\n",
       "    </tr>\n",
       "    <tr>\n",
       "      <th>Deccan Chargers</th>\n",
       "      <td>24</td>\n",
       "      <td>19</td>\n",
       "    </tr>\n",
       "    <tr>\n",
       "      <th>Delhi Capitals</th>\n",
       "      <td>2</td>\n",
       "      <td>8</td>\n",
       "    </tr>\n",
       "    <tr>\n",
       "      <th>Delhi Daredevils</th>\n",
       "      <td>29</td>\n",
       "      <td>51</td>\n",
       "    </tr>\n",
       "    <tr>\n",
       "      <th>Gujarat Lions</th>\n",
       "      <td>1</td>\n",
       "      <td>14</td>\n",
       "    </tr>\n",
       "    <tr>\n",
       "      <th>Kings XI Punjab</th>\n",
       "      <td>26</td>\n",
       "      <td>55</td>\n",
       "    </tr>\n",
       "    <tr>\n",
       "      <th>Kochi Tuskers Kerala</th>\n",
       "      <td>3</td>\n",
       "      <td>5</td>\n",
       "    </tr>\n",
       "    <tr>\n",
       "      <th>Kolkata Knight Riders</th>\n",
       "      <td>30</td>\n",
       "      <td>62</td>\n",
       "    </tr>\n",
       "    <tr>\n",
       "      <th>Mumbai Indians</th>\n",
       "      <td>44</td>\n",
       "      <td>54</td>\n",
       "    </tr>\n",
       "    <tr>\n",
       "      <th>Pune Warriors</th>\n",
       "      <td>11</td>\n",
       "      <td>9</td>\n",
       "    </tr>\n",
       "    <tr>\n",
       "      <th>Rajasthan Royals</th>\n",
       "      <td>32</td>\n",
       "      <td>48</td>\n",
       "    </tr>\n",
       "    <tr>\n",
       "      <th>Rising Pune Supergiant</th>\n",
       "      <td>0</td>\n",
       "      <td>6</td>\n",
       "    </tr>\n",
       "    <tr>\n",
       "      <th>Rising Pune Supergiants</th>\n",
       "      <td>3</td>\n",
       "      <td>4</td>\n",
       "    </tr>\n",
       "    <tr>\n",
       "      <th>Royal Challengers Bangalore</th>\n",
       "      <td>20</td>\n",
       "      <td>61</td>\n",
       "    </tr>\n",
       "    <tr>\n",
       "      <th>Sunrisers Hyderabad</th>\n",
       "      <td>20</td>\n",
       "      <td>26</td>\n",
       "    </tr>\n",
       "  </tbody>\n",
       "</table>\n",
       "</div>"
      ],
      "text/plain": [
       "toss_decision                bat  field\n",
       "toss_winner                            \n",
       "Chennai Super Kings           48     41\n",
       "Deccan Chargers               24     19\n",
       "Delhi Capitals                 2      8\n",
       "Delhi Daredevils              29     51\n",
       "Gujarat Lions                  1     14\n",
       "Kings XI Punjab               26     55\n",
       "Kochi Tuskers Kerala           3      5\n",
       "Kolkata Knight Riders         30     62\n",
       "Mumbai Indians                44     54\n",
       "Pune Warriors                 11      9\n",
       "Rajasthan Royals              32     48\n",
       "Rising Pune Supergiant         0      6\n",
       "Rising Pune Supergiants        3      4\n",
       "Royal Challengers Bangalore   20     61\n",
       "Sunrisers Hyderabad           20     26"
      ]
     },
     "execution_count": 5,
     "metadata": {},
     "output_type": "execute_result"
    }
   ],
   "source": [
    "pd.crosstab(df2['toss_winner'], df2['toss_decision'])"
   ]
  },
  {
   "cell_type": "markdown",
   "id": "102d8701",
   "metadata": {},
   "source": [
    "\n",
    "#### 6) Count the total number of normal and tie matches."
   ]
  },
  {
   "cell_type": "code",
   "execution_count": 6,
   "id": "a57ba51c",
   "metadata": {},
   "outputs": [
    {
     "data": {
      "text/plain": [
       "normal       743\n",
       "tie            9\n",
       "no result      4\n",
       "Name: result, dtype: int64"
      ]
     },
     "execution_count": 6,
     "metadata": {},
     "output_type": "execute_result"
    }
   ],
   "source": [
    "df2['result'].value_counts()"
   ]
  },
  {
   "cell_type": "markdown",
   "id": "b73719cc",
   "metadata": {},
   "source": [
    "\n",
    "#### 7) Find the team names where the match result is tie."
   ]
  },
  {
   "cell_type": "code",
   "execution_count": 7,
   "id": "b067fe66",
   "metadata": {},
   "outputs": [
    {
     "data": {
      "text/html": [
       "<div>\n",
       "<style scoped>\n",
       "    .dataframe tbody tr th:only-of-type {\n",
       "        vertical-align: middle;\n",
       "    }\n",
       "\n",
       "    .dataframe tbody tr th {\n",
       "        vertical-align: top;\n",
       "    }\n",
       "\n",
       "    .dataframe thead th {\n",
       "        text-align: right;\n",
       "    }\n",
       "</style>\n",
       "<table border=\"1\" class=\"dataframe\">\n",
       "  <thead>\n",
       "    <tr style=\"text-align: right;\">\n",
       "      <th></th>\n",
       "      <th></th>\n",
       "      <th>No of ties</th>\n",
       "    </tr>\n",
       "    <tr>\n",
       "      <th>team1</th>\n",
       "      <th>team2</th>\n",
       "      <th></th>\n",
       "    </tr>\n",
       "  </thead>\n",
       "  <tbody>\n",
       "    <tr>\n",
       "      <th>Rajasthan Royals</th>\n",
       "      <th>Kolkata Knight Riders</th>\n",
       "      <td>2</td>\n",
       "    </tr>\n",
       "    <tr>\n",
       "      <th>Delhi Daredevils</th>\n",
       "      <th>Royal Challengers Bangalore</th>\n",
       "      <td>1</td>\n",
       "    </tr>\n",
       "    <tr>\n",
       "      <th>Gujarat Lions</th>\n",
       "      <th>Mumbai Indians</th>\n",
       "      <td>1</td>\n",
       "    </tr>\n",
       "    <tr>\n",
       "      <th>Kings XI Punjab</th>\n",
       "      <th>Chennai Super Kings</th>\n",
       "      <td>1</td>\n",
       "    </tr>\n",
       "    <tr>\n",
       "      <th>Kolkata Knight Riders</th>\n",
       "      <th>Delhi Capitals</th>\n",
       "      <td>1</td>\n",
       "    </tr>\n",
       "    <tr>\n",
       "      <th>Mumbai Indians</th>\n",
       "      <th>Sunrisers Hyderabad</th>\n",
       "      <td>1</td>\n",
       "    </tr>\n",
       "    <tr>\n",
       "      <th>Rajasthan Royals</th>\n",
       "      <th>Kings XI Punjab</th>\n",
       "      <td>1</td>\n",
       "    </tr>\n",
       "    <tr>\n",
       "      <th>Royal Challengers Bangalore</th>\n",
       "      <th>Sunrisers Hyderabad</th>\n",
       "      <td>1</td>\n",
       "    </tr>\n",
       "  </tbody>\n",
       "</table>\n",
       "</div>"
      ],
      "text/plain": [
       "                                                         No of ties\n",
       "team1                       team2                                  \n",
       "Rajasthan Royals            Kolkata Knight Riders                 2\n",
       "Delhi Daredevils            Royal Challengers Bangalore           1\n",
       "Gujarat Lions               Mumbai Indians                        1\n",
       "Kings XI Punjab             Chennai Super Kings                   1\n",
       "Kolkata Knight Riders       Delhi Capitals                        1\n",
       "Mumbai Indians              Sunrisers Hyderabad                   1\n",
       "Rajasthan Royals            Kings XI Punjab                       1\n",
       "Royal Challengers Bangalore Sunrisers Hyderabad                   1"
      ]
     },
     "execution_count": 7,
     "metadata": {},
     "output_type": "execute_result"
    }
   ],
   "source": [
    "df2[df2['result'] == 'tie'][['team1', 'team2']].value_counts().to_frame(\"No of ties\")"
   ]
  },
  {
   "cell_type": "markdown",
   "id": "ef5ceed6",
   "metadata": {},
   "source": [
    "\n",
    "#### 8) Find the team name who won the match by highest runs."
   ]
  },
  {
   "cell_type": "code",
   "execution_count": 8,
   "id": "2cbe0d7e",
   "metadata": {},
   "outputs": [
    {
     "data": {
      "text/plain": [
       "'Mumbai Indians'"
      ]
     },
     "execution_count": 8,
     "metadata": {},
     "output_type": "execute_result"
    }
   ],
   "source": [
    "df2['winner'][df2['win_by_runs'].idxmax()]"
   ]
  },
  {
   "cell_type": "markdown",
   "id": "c830788e",
   "metadata": {},
   "source": [
    "\n",
    "#### 9) Find the team name who won the match by lowest runs."
   ]
  },
  {
   "cell_type": "code",
   "execution_count": 9,
   "id": "af06d299",
   "metadata": {},
   "outputs": [
    {
     "data": {
      "text/plain": [
       "'Rising Pune Supergiant'"
      ]
     },
     "execution_count": 9,
     "metadata": {},
     "output_type": "execute_result"
    }
   ],
   "source": [
    "df2['winner'][df2['win_by_runs'].idxmin()]"
   ]
  },
  {
   "cell_type": "markdown",
   "id": "ad682b99",
   "metadata": {},
   "source": [
    "\n",
    "#### 10) Find the players who was awarded “Player of the match” more than 3 times."
   ]
  },
  {
   "cell_type": "code",
   "execution_count": 10,
   "id": "efb30148",
   "metadata": {},
   "outputs": [
    {
     "data": {
      "text/plain": [
       "player_of_match\n",
       "A Mishra          11\n",
       "A Nehra            6\n",
       "AB de Villiers    20\n",
       "AC Gilchrist       7\n",
       "AD Russell        11\n",
       "                  ..\n",
       "UT Yadav           8\n",
       "V Kohli           12\n",
       "V Sehwag          11\n",
       "YK Pathan         16\n",
       "Yuvraj Singh       5\n",
       "Name: id, Length: 65, dtype: int64"
      ]
     },
     "execution_count": 10,
     "metadata": {},
     "output_type": "execute_result"
    }
   ],
   "source": [
    "df3 = df2.groupby('player_of_match').count()\n",
    "df3 = df3[df3['id']>3]\n",
    "df3['id']"
   ]
  },
  {
   "cell_type": "markdown",
   "id": "7d88a382",
   "metadata": {},
   "source": [
    "\n",
    "#### 11) Find the player who was awarded as player of the match maximum times."
   ]
  },
  {
   "cell_type": "code",
   "execution_count": 11,
   "id": "a31d394d",
   "metadata": {},
   "outputs": [
    {
     "data": {
      "text/plain": [
       "'CH Gayle'"
      ]
     },
     "execution_count": 11,
     "metadata": {},
     "output_type": "execute_result"
    }
   ],
   "source": [
    "df2['player_of_match'].value_counts().idxmax()"
   ]
  },
  {
   "cell_type": "markdown",
   "id": "a2af1f46",
   "metadata": {},
   "source": [
    "\n",
    "#### 12) Find the Venue where the team won the match by highest runs."
   ]
  },
  {
   "cell_type": "code",
   "execution_count": 17,
   "id": "5afa1483",
   "metadata": {},
   "outputs": [
    {
     "name": "stdout",
     "output_type": "stream",
     "text": [
      "146    SuperSport Park\n",
      "Name: venue, dtype: object\n"
     ]
    }
   ],
   "source": [
    "print(df2['venue'][df2['win_by_runs'].nlargest(1)])"
   ]
  },
  {
   "cell_type": "markdown",
   "id": "9bfa70cc",
   "metadata": {},
   "source": [
    "\n",
    "#### 13) Find the Venue where the team won the match by lowest runs."
   ]
  },
  {
   "cell_type": "code",
   "execution_count": 22,
   "id": "4b9a958b",
   "metadata": {},
   "outputs": [
    {
     "data": {
      "text/html": [
       "<div>\n",
       "<style scoped>\n",
       "    .dataframe tbody tr th:only-of-type {\n",
       "        vertical-align: middle;\n",
       "    }\n",
       "\n",
       "    .dataframe tbody tr th {\n",
       "        vertical-align: top;\n",
       "    }\n",
       "\n",
       "    .dataframe thead th {\n",
       "        text-align: right;\n",
       "    }\n",
       "</style>\n",
       "<table border=\"1\" class=\"dataframe\">\n",
       "  <thead>\n",
       "    <tr style=\"text-align: right;\">\n",
       "      <th></th>\n",
       "      <th>id</th>\n",
       "      <th>season</th>\n",
       "      <th>city</th>\n",
       "      <th>date</th>\n",
       "      <th>team1</th>\n",
       "      <th>team2</th>\n",
       "      <th>toss_winner</th>\n",
       "      <th>toss_decision</th>\n",
       "      <th>result</th>\n",
       "      <th>dl_applied</th>\n",
       "      <th>winner</th>\n",
       "      <th>win_by_runs</th>\n",
       "      <th>win_by_wickets</th>\n",
       "      <th>player_of_match</th>\n",
       "      <th>venue</th>\n",
       "      <th>umpire1</th>\n",
       "      <th>umpire2</th>\n",
       "      <th>umpire3</th>\n",
       "    </tr>\n",
       "  </thead>\n",
       "  <tbody>\n",
       "    <tr>\n",
       "      <th>1</th>\n",
       "      <td>2</td>\n",
       "      <td>2017</td>\n",
       "      <td>Pune</td>\n",
       "      <td>2017-04-06</td>\n",
       "      <td>Mumbai Indians</td>\n",
       "      <td>Rising Pune Supergiant</td>\n",
       "      <td>Rising Pune Supergiant</td>\n",
       "      <td>field</td>\n",
       "      <td>normal</td>\n",
       "      <td>0</td>\n",
       "      <td>Rising Pune Supergiant</td>\n",
       "      <td>0</td>\n",
       "      <td>7</td>\n",
       "      <td>SPD Smith</td>\n",
       "      <td>Maharashtra Cricket Association Stadium</td>\n",
       "      <td>A Nand Kishore</td>\n",
       "      <td>S Ravi</td>\n",
       "      <td>NaN</td>\n",
       "    </tr>\n",
       "  </tbody>\n",
       "</table>\n",
       "</div>"
      ],
      "text/plain": [
       "   id  season  city        date           team1                   team2  \\\n",
       "1   2    2017  Pune  2017-04-06  Mumbai Indians  Rising Pune Supergiant   \n",
       "\n",
       "              toss_winner toss_decision  result  dl_applied  \\\n",
       "1  Rising Pune Supergiant         field  normal           0   \n",
       "\n",
       "                   winner  win_by_runs  win_by_wickets player_of_match  \\\n",
       "1  Rising Pune Supergiant            0               7       SPD Smith   \n",
       "\n",
       "                                     venue         umpire1 umpire2 umpire3  \n",
       "1  Maharashtra Cricket Association Stadium  A Nand Kishore  S Ravi     NaN  "
      ]
     },
     "execution_count": 22,
     "metadata": {},
     "output_type": "execute_result"
    }
   ],
   "source": [
    "df2.nsmallest(1, ['win_by_runs'])"
   ]
  },
  {
   "cell_type": "markdown",
   "id": "994e7269",
   "metadata": {},
   "source": [
    "\n",
    "#### 14) Find the Umpires who did umpiring maximum times."
   ]
  },
  {
   "cell_type": "code",
   "execution_count": 23,
   "id": "71b27e30",
   "metadata": {},
   "outputs": [
    {
     "name": "stdout",
     "output_type": "stream",
     "text": [
      "HDPK Dharmasena\n",
      "C Shamshuddin\n",
      "Nitin Menon\n"
     ]
    }
   ],
   "source": [
    "print(df2['umpire1'].value_counts().idxmax())\n",
    "print(df2['umpire2'].value_counts().idxmax())\n",
    "print(df2['umpire3'].value_counts().idxmax())"
   ]
  },
  {
   "cell_type": "markdown",
   "id": "c506cc6c",
   "metadata": {},
   "source": [
    "\n",
    "#### 15) Find the Total matches played in each season"
   ]
  },
  {
   "cell_type": "code",
   "execution_count": 24,
   "id": "49c4da88",
   "metadata": {},
   "outputs": [
    {
     "data": {
      "text/plain": [
       "2013    76\n",
       "2012    74\n",
       "2011    73\n",
       "2010    60\n",
       "2014    60\n",
       "2016    60\n",
       "2018    60\n",
       "2019    60\n",
       "2017    59\n",
       "2015    59\n",
       "2008    58\n",
       "2009    57\n",
       "Name: season, dtype: int64"
      ]
     },
     "execution_count": 24,
     "metadata": {},
     "output_type": "execute_result"
    }
   ],
   "source": [
    "df2['season'].value_counts()"
   ]
  },
  {
   "cell_type": "markdown",
   "id": "a5f7747f",
   "metadata": {},
   "source": [
    "\n",
    "#### 16) Find the Total runs in each season"
   ]
  },
  {
   "cell_type": "code",
   "execution_count": 25,
   "id": "4506c83b",
   "metadata": {},
   "outputs": [
    {
     "data": {
      "text/html": [
       "<div>\n",
       "<style scoped>\n",
       "    .dataframe tbody tr th:only-of-type {\n",
       "        vertical-align: middle;\n",
       "    }\n",
       "\n",
       "    .dataframe tbody tr th {\n",
       "        vertical-align: top;\n",
       "    }\n",
       "\n",
       "    .dataframe thead th {\n",
       "        text-align: right;\n",
       "    }\n",
       "</style>\n",
       "<table border=\"1\" class=\"dataframe\">\n",
       "  <thead>\n",
       "    <tr style=\"text-align: right;\">\n",
       "      <th></th>\n",
       "      <th>season</th>\n",
       "      <th>total_runs</th>\n",
       "    </tr>\n",
       "  </thead>\n",
       "  <tbody>\n",
       "    <tr>\n",
       "      <th>0</th>\n",
       "      <td>2008</td>\n",
       "      <td>17937</td>\n",
       "    </tr>\n",
       "    <tr>\n",
       "      <th>1</th>\n",
       "      <td>2009</td>\n",
       "      <td>16353</td>\n",
       "    </tr>\n",
       "    <tr>\n",
       "      <th>2</th>\n",
       "      <td>2010</td>\n",
       "      <td>18883</td>\n",
       "    </tr>\n",
       "    <tr>\n",
       "      <th>3</th>\n",
       "      <td>2011</td>\n",
       "      <td>21154</td>\n",
       "    </tr>\n",
       "    <tr>\n",
       "      <th>4</th>\n",
       "      <td>2012</td>\n",
       "      <td>22453</td>\n",
       "    </tr>\n",
       "    <tr>\n",
       "      <th>5</th>\n",
       "      <td>2013</td>\n",
       "      <td>22602</td>\n",
       "    </tr>\n",
       "    <tr>\n",
       "      <th>6</th>\n",
       "      <td>2014</td>\n",
       "      <td>18931</td>\n",
       "    </tr>\n",
       "    <tr>\n",
       "      <th>7</th>\n",
       "      <td>2015</td>\n",
       "      <td>18353</td>\n",
       "    </tr>\n",
       "    <tr>\n",
       "      <th>8</th>\n",
       "      <td>2016</td>\n",
       "      <td>18862</td>\n",
       "    </tr>\n",
       "    <tr>\n",
       "      <th>9</th>\n",
       "      <td>2017</td>\n",
       "      <td>18786</td>\n",
       "    </tr>\n",
       "    <tr>\n",
       "      <th>10</th>\n",
       "      <td>2018</td>\n",
       "      <td>20706</td>\n",
       "    </tr>\n",
       "    <tr>\n",
       "      <th>11</th>\n",
       "      <td>2019</td>\n",
       "      <td>20270</td>\n",
       "    </tr>\n",
       "  </tbody>\n",
       "</table>\n",
       "</div>"
      ],
      "text/plain": [
       "    season  total_runs\n",
       "0     2008       17937\n",
       "1     2009       16353\n",
       "2     2010       18883\n",
       "3     2011       21154\n",
       "4     2012       22453\n",
       "5     2013       22602\n",
       "6     2014       18931\n",
       "7     2015       18353\n",
       "8     2016       18862\n",
       "9     2017       18786\n",
       "10    2018       20706\n",
       "11    2019       20270"
      ]
     },
     "execution_count": 25,
     "metadata": {},
     "output_type": "execute_result"
    }
   ],
   "source": [
    "match_detail = df2[['id', 'season']].merge(df1, left_on='id', right_on='match_id', how='left')\n",
    "match_detail.groupby(['season'])['total_runs'].sum().reset_index()"
   ]
  },
  {
   "cell_type": "markdown",
   "id": "f656def5",
   "metadata": {},
   "source": [
    "\n",
    "#### 17) No. of tosses won by each team"
   ]
  },
  {
   "cell_type": "code",
   "execution_count": 26,
   "id": "db899f55",
   "metadata": {},
   "outputs": [
    {
     "data": {
      "text/plain": [
       "Mumbai Indians                 98\n",
       "Kolkata Knight Riders          92\n",
       "Chennai Super Kings            89\n",
       "Royal Challengers Bangalore    81\n",
       "Kings XI Punjab                81\n",
       "Delhi Daredevils               80\n",
       "Rajasthan Royals               80\n",
       "Sunrisers Hyderabad            46\n",
       "Deccan Chargers                43\n",
       "Pune Warriors                  20\n",
       "Gujarat Lions                  15\n",
       "Delhi Capitals                 10\n",
       "Kochi Tuskers Kerala            8\n",
       "Rising Pune Supergiants         7\n",
       "Rising Pune Supergiant          6\n",
       "Name: toss_winner, dtype: int64"
      ]
     },
     "execution_count": 26,
     "metadata": {},
     "output_type": "execute_result"
    }
   ],
   "source": [
    "df2['toss_winner'].value_counts()"
   ]
  },
  {
   "cell_type": "markdown",
   "id": "d57d437a",
   "metadata": {},
   "source": [
    "\n",
    "#### 18) Visualize the Toss decision across seasons"
   ]
  },
  {
   "cell_type": "code",
   "execution_count": 27,
   "id": "bb637f24",
   "metadata": {},
   "outputs": [
    {
     "data": {
      "text/html": [
       "<div>\n",
       "<style scoped>\n",
       "    .dataframe tbody tr th:only-of-type {\n",
       "        vertical-align: middle;\n",
       "    }\n",
       "\n",
       "    .dataframe tbody tr th {\n",
       "        vertical-align: top;\n",
       "    }\n",
       "\n",
       "    .dataframe thead th {\n",
       "        text-align: right;\n",
       "    }\n",
       "</style>\n",
       "<table border=\"1\" class=\"dataframe\">\n",
       "  <thead>\n",
       "    <tr style=\"text-align: right;\">\n",
       "      <th>season</th>\n",
       "      <th>2008</th>\n",
       "      <th>2009</th>\n",
       "      <th>2010</th>\n",
       "      <th>2011</th>\n",
       "      <th>2012</th>\n",
       "      <th>2013</th>\n",
       "      <th>2014</th>\n",
       "      <th>2015</th>\n",
       "      <th>2016</th>\n",
       "      <th>2017</th>\n",
       "      <th>2018</th>\n",
       "      <th>2019</th>\n",
       "    </tr>\n",
       "    <tr>\n",
       "      <th>toss_decision</th>\n",
       "      <th></th>\n",
       "      <th></th>\n",
       "      <th></th>\n",
       "      <th></th>\n",
       "      <th></th>\n",
       "      <th></th>\n",
       "      <th></th>\n",
       "      <th></th>\n",
       "      <th></th>\n",
       "      <th></th>\n",
       "      <th></th>\n",
       "      <th></th>\n",
       "    </tr>\n",
       "  </thead>\n",
       "  <tbody>\n",
       "    <tr>\n",
       "      <th>bat</th>\n",
       "      <td>26</td>\n",
       "      <td>35</td>\n",
       "      <td>39</td>\n",
       "      <td>25</td>\n",
       "      <td>37</td>\n",
       "      <td>45</td>\n",
       "      <td>19</td>\n",
       "      <td>25</td>\n",
       "      <td>11</td>\n",
       "      <td>11</td>\n",
       "      <td>10</td>\n",
       "      <td>10</td>\n",
       "    </tr>\n",
       "    <tr>\n",
       "      <th>field</th>\n",
       "      <td>32</td>\n",
       "      <td>22</td>\n",
       "      <td>21</td>\n",
       "      <td>48</td>\n",
       "      <td>37</td>\n",
       "      <td>31</td>\n",
       "      <td>41</td>\n",
       "      <td>34</td>\n",
       "      <td>49</td>\n",
       "      <td>48</td>\n",
       "      <td>50</td>\n",
       "      <td>50</td>\n",
       "    </tr>\n",
       "  </tbody>\n",
       "</table>\n",
       "</div>"
      ],
      "text/plain": [
       "season         2008  2009  2010  2011  2012  2013  2014  2015  2016  2017  \\\n",
       "toss_decision                                                               \n",
       "bat              26    35    39    25    37    45    19    25    11    11   \n",
       "field            32    22    21    48    37    31    41    34    49    48   \n",
       "\n",
       "season         2018  2019  \n",
       "toss_decision              \n",
       "bat              10    10  \n",
       "field            50    50  "
      ]
     },
     "execution_count": 27,
     "metadata": {},
     "output_type": "execute_result"
    }
   ],
   "source": [
    "pd.crosstab(df2['toss_decision'],df2['season'])"
   ]
  },
  {
   "cell_type": "markdown",
   "id": "d034c7c8",
   "metadata": {},
   "source": [
    "\n",
    "#### 19) Find the Dismissal Kind and Visualize using best fit graph"
   ]
  },
  {
   "cell_type": "code",
   "execution_count": 28,
   "id": "215ae5a6",
   "metadata": {},
   "outputs": [
    {
     "data": {
      "text/plain": [
       "<Axes: xlabel='season', ylabel='count'>"
      ]
     },
     "execution_count": 28,
     "metadata": {},
     "output_type": "execute_result"
    },
    {
     "data": {
      "image/png": "[encoded data removed]",
      "text/plain": [
       "<Figure size 640x480 with 1 Axes>"
      ]
     },
     "metadata": {},
     "output_type": "display_data"
    }
   ],
   "source": [
    "sns.countplot(data = df2, x = 'season' , hue = 'toss_decision')"
   ]
  },
  {
   "cell_type": "markdown",
   "id": "11b6e61c",
   "metadata": {},
   "source": [
    "\n",
    "#### 20) Find the Top 10 run scorers in IPL and Visualize using best fit graph"
   ]
  },
  {
   "cell_type": "code",
   "execution_count": 29,
   "id": "3699f48f",
   "metadata": {},
   "outputs": [
    {
     "data": {
      "text/plain": [
       "<Axes: xlabel='count', ylabel='dismissal_kind'>"
      ]
     },
     "execution_count": 29,
     "metadata": {},
     "output_type": "execute_result"
    },
    {
     "data": {
      "image/png": "[encoded data removed]",
      "text/plain": [
       "<Figure size 640x480 with 1 Axes>"
      ]
     },
     "metadata": {},
     "output_type": "display_data"
    }
   ],
   "source": [
    "sns.countplot(data = df1, y = 'dismissal_kind')"
   ]
  },
  {
   "cell_type": "markdown",
   "id": "26617629",
   "metadata": {},
   "source": [
    "\n",
    "#### 21) Visualize the Highest MOM award winners"
   ]
  },
  {
   "cell_type": "code",
   "execution_count": 30,
   "id": "7f5d9893",
   "metadata": {},
   "outputs": [
    {
     "data": {
      "text/plain": [
       "<Axes: xlabel='batsman_runs', ylabel='batsman'>"
      ]
     },
     "execution_count": 30,
     "metadata": {},
     "output_type": "execute_result"
    },
    {
     "data": {
      "image/png": "[encoded data removed]",
      "text/plain": [
       "<Figure size 640x480 with 1 Axes>"
      ]
     },
     "metadata": {},
     "output_type": "display_data"
    }
   ],
   "source": [
    "total_runs = df1.groupby('batsman')['batsman_runs'].sum().reset_index()\n",
    "\n",
    "top_10_players = total_runs.nlargest(10, 'batsman_runs')\n",
    "\n",
    "sns.barplot(data=top_10_players, x='batsman_runs', y='batsman')"
   ]
  },
  {
   "cell_type": "markdown",
   "id": "8ffe77f6",
   "metadata": {},
   "source": [
    "\n",
    "#### 22) Find Total Number of Played Matches by each team"
   ]
  },
  {
   "cell_type": "code",
   "execution_count": 31,
   "id": "ae011478",
   "metadata": {},
   "outputs": [
    {
     "data": {
      "text/plain": [
       "Mumbai Indians                 109\n",
       "Chennai Super Kings            100\n",
       "Kolkata Knight Riders           92\n",
       "Royal Challengers Bangalore     84\n",
       "Kings XI Punjab                 82\n",
       "Rajasthan Royals                75\n",
       "Delhi Daredevils                67\n",
       "Sunrisers Hyderabad             58\n",
       "Deccan Chargers                 29\n",
       "Gujarat Lions                   13\n",
       "Pune Warriors                   12\n",
       "Rising Pune Supergiant          10\n",
       "Delhi Capitals                  10\n",
       "Kochi Tuskers Kerala             6\n",
       "Rising Pune Supergiants          5\n",
       "Name: winner, dtype: int64"
      ]
     },
     "execution_count": 31,
     "metadata": {},
     "output_type": "execute_result"
    }
   ],
   "source": [
    "df2['winner'].value_counts()"
   ]
  },
  {
   "cell_type": "markdown",
   "id": "20485fae",
   "metadata": {},
   "source": [
    "\n",
    "#### 23)Compare Total Played Matches vs Winning Matches vs Win Rate"
   ]
  },
  {
   "cell_type": "code",
   "execution_count": 42,
   "id": "2ef92e48",
   "metadata": {},
   "outputs": [
    {
     "ename": "ValueError",
     "evalue": "Could not interpret input 'matches_won_dist'",
     "output_type": "error",
     "traceback": [
      "\u001b[1;31m---------------------------------------------------------------------------\u001b[0m",
      "\u001b[1;31mValueError\u001b[0m                                Traceback (most recent call last)",
      "Cell \u001b[1;32mIn[42], line 1\u001b[0m\n\u001b[1;32m----> 1\u001b[0m sns\u001b[38;5;241m.\u001b[39mbarplot(data\u001b[38;5;241m=\u001b[39mdf2, x\u001b[38;5;241m=\u001b[39m\u001b[38;5;124m'\u001b[39m\u001b[38;5;124mmatches_won_dist\u001b[39m\u001b[38;5;124m'\u001b[39m, y\u001b[38;5;241m=\u001b[39m\u001b[38;5;124m'\u001b[39m\u001b[38;5;124mmatches_won_dist\u001b[39m\u001b[38;5;124m'\u001b[39m)\n",
      "File \u001b[1;32m~\\anaconda3\\Lib\\site-packages\\seaborn\\categorical.py:2755\u001b[0m, in \u001b[0;36mbarplot\u001b[1;34m(data, x, y, hue, order, hue_order, estimator, errorbar, n_boot, units, seed, orient, color, palette, saturation, width, errcolor, errwidth, capsize, dodge, ci, ax, **kwargs)\u001b[0m\n\u001b[0;32m   2752\u001b[0m \u001b[38;5;28;01mif\u001b[39;00m estimator \u001b[38;5;129;01mis\u001b[39;00m \u001b[38;5;28mlen\u001b[39m:\n\u001b[0;32m   2753\u001b[0m     estimator \u001b[38;5;241m=\u001b[39m \u001b[38;5;124m\"\u001b[39m\u001b[38;5;124msize\u001b[39m\u001b[38;5;124m\"\u001b[39m\n\u001b[1;32m-> 2755\u001b[0m plotter \u001b[38;5;241m=\u001b[39m _BarPlotter(x, y, hue, data, order, hue_order,\n\u001b[0;32m   2756\u001b[0m                       estimator, errorbar, n_boot, units, seed,\n\u001b[0;32m   2757\u001b[0m                       orient, color, palette, saturation,\n\u001b[0;32m   2758\u001b[0m                       width, errcolor, errwidth, capsize, dodge)\n\u001b[0;32m   2760\u001b[0m \u001b[38;5;28;01mif\u001b[39;00m ax \u001b[38;5;129;01mis\u001b[39;00m \u001b[38;5;28;01mNone\u001b[39;00m:\n\u001b[0;32m   2761\u001b[0m     ax \u001b[38;5;241m=\u001b[39m plt\u001b[38;5;241m.\u001b[39mgca()\n",
      "File \u001b[1;32m~\\anaconda3\\Lib\\site-packages\\seaborn\\categorical.py:1530\u001b[0m, in \u001b[0;36m_BarPlotter.__init__\u001b[1;34m(self, x, y, hue, data, order, hue_order, estimator, errorbar, n_boot, units, seed, orient, color, palette, saturation, width, errcolor, errwidth, capsize, dodge)\u001b[0m\n\u001b[0;32m   1525\u001b[0m \u001b[38;5;28;01mdef\u001b[39;00m \u001b[38;5;21m__init__\u001b[39m(\u001b[38;5;28mself\u001b[39m, x, y, hue, data, order, hue_order,\n\u001b[0;32m   1526\u001b[0m              estimator, errorbar, n_boot, units, seed,\n\u001b[0;32m   1527\u001b[0m              orient, color, palette, saturation, width,\n\u001b[0;32m   1528\u001b[0m              errcolor, errwidth, capsize, dodge):\n\u001b[0;32m   1529\u001b[0m \u001b[38;5;250m    \u001b[39m\u001b[38;5;124;03m\"\"\"Initialize the plotter.\"\"\"\u001b[39;00m\n\u001b[1;32m-> 1530\u001b[0m     \u001b[38;5;28mself\u001b[39m\u001b[38;5;241m.\u001b[39mestablish_variables(x, y, hue, data, orient,\n\u001b[0;32m   1531\u001b[0m                              order, hue_order, units)\n\u001b[0;32m   1532\u001b[0m     \u001b[38;5;28mself\u001b[39m\u001b[38;5;241m.\u001b[39mestablish_colors(color, palette, saturation)\n\u001b[0;32m   1533\u001b[0m     \u001b[38;5;28mself\u001b[39m\u001b[38;5;241m.\u001b[39mestimate_statistic(estimator, errorbar, n_boot, seed)\n",
      "File \u001b[1;32m~\\anaconda3\\Lib\\site-packages\\seaborn\\categorical.py:541\u001b[0m, in \u001b[0;36m_CategoricalPlotter.establish_variables\u001b[1;34m(self, x, y, hue, data, orient, order, hue_order, units)\u001b[0m\n\u001b[0;32m    539\u001b[0m     \u001b[38;5;28;01mif\u001b[39;00m \u001b[38;5;28misinstance\u001b[39m(var, \u001b[38;5;28mstr\u001b[39m):\n\u001b[0;32m    540\u001b[0m         err \u001b[38;5;241m=\u001b[39m \u001b[38;5;124mf\u001b[39m\u001b[38;5;124m\"\u001b[39m\u001b[38;5;124mCould not interpret input \u001b[39m\u001b[38;5;124m'\u001b[39m\u001b[38;5;132;01m{\u001b[39;00mvar\u001b[38;5;132;01m}\u001b[39;00m\u001b[38;5;124m'\u001b[39m\u001b[38;5;124m\"\u001b[39m\n\u001b[1;32m--> 541\u001b[0m         \u001b[38;5;28;01mraise\u001b[39;00m \u001b[38;5;167;01mValueError\u001b[39;00m(err)\n\u001b[0;32m    543\u001b[0m \u001b[38;5;66;03m# Figure out the plotting orientation\u001b[39;00m\n\u001b[0;32m    544\u001b[0m orient \u001b[38;5;241m=\u001b[39m infer_orient(\n\u001b[0;32m    545\u001b[0m     x, y, orient, require_numeric\u001b[38;5;241m=\u001b[39m\u001b[38;5;28mself\u001b[39m\u001b[38;5;241m.\u001b[39mrequire_numeric\n\u001b[0;32m    546\u001b[0m )\n",
      "\u001b[1;31mValueError\u001b[0m: Could not interpret input 'matches_won_dist'"
     ]
    }
   ],
   "source": [
    "sns.barplot(data=df2, x='matches_won_dist', y='matches_won_dist')"
   ]
  },
  {
   "cell_type": "markdown",
   "id": "473b6612",
   "metadata": {},
   "source": [
    "\n",
    "#### 24) Find the Distribution of Won the Matches"
   ]
  },
  {
   "cell_type": "code",
   "execution_count": 36,
   "id": "8e3063ff",
   "metadata": {},
   "outputs": [
    {
     "data": {
      "text/html": [
       "<div>\n",
       "<style scoped>\n",
       "    .dataframe tbody tr th:only-of-type {\n",
       "        vertical-align: middle;\n",
       "    }\n",
       "\n",
       "    .dataframe tbody tr th {\n",
       "        vertical-align: top;\n",
       "    }\n",
       "\n",
       "    .dataframe thead th {\n",
       "        text-align: right;\n",
       "    }\n",
       "</style>\n",
       "<table border=\"1\" class=\"dataframe\">\n",
       "  <thead>\n",
       "    <tr style=\"text-align: right;\">\n",
       "      <th>toss_decision</th>\n",
       "      <th>bat</th>\n",
       "      <th>field</th>\n",
       "    </tr>\n",
       "    <tr>\n",
       "      <th>toss_winner</th>\n",
       "      <th></th>\n",
       "      <th></th>\n",
       "    </tr>\n",
       "  </thead>\n",
       "  <tbody>\n",
       "    <tr>\n",
       "      <th>Chennai Super Kings</th>\n",
       "      <td>48.0</td>\n",
       "      <td>41.0</td>\n",
       "    </tr>\n",
       "    <tr>\n",
       "      <th>Deccan Chargers</th>\n",
       "      <td>24.0</td>\n",
       "      <td>19.0</td>\n",
       "    </tr>\n",
       "    <tr>\n",
       "      <th>Delhi Capitals</th>\n",
       "      <td>2.0</td>\n",
       "      <td>8.0</td>\n",
       "    </tr>\n",
       "    <tr>\n",
       "      <th>Delhi Daredevils</th>\n",
       "      <td>29.0</td>\n",
       "      <td>51.0</td>\n",
       "    </tr>\n",
       "    <tr>\n",
       "      <th>Gujarat Lions</th>\n",
       "      <td>1.0</td>\n",
       "      <td>14.0</td>\n",
       "    </tr>\n",
       "    <tr>\n",
       "      <th>Kings XI Punjab</th>\n",
       "      <td>26.0</td>\n",
       "      <td>55.0</td>\n",
       "    </tr>\n",
       "    <tr>\n",
       "      <th>Kochi Tuskers Kerala</th>\n",
       "      <td>3.0</td>\n",
       "      <td>5.0</td>\n",
       "    </tr>\n",
       "    <tr>\n",
       "      <th>Kolkata Knight Riders</th>\n",
       "      <td>30.0</td>\n",
       "      <td>62.0</td>\n",
       "    </tr>\n",
       "    <tr>\n",
       "      <th>Mumbai Indians</th>\n",
       "      <td>44.0</td>\n",
       "      <td>54.0</td>\n",
       "    </tr>\n",
       "    <tr>\n",
       "      <th>Pune Warriors</th>\n",
       "      <td>11.0</td>\n",
       "      <td>9.0</td>\n",
       "    </tr>\n",
       "    <tr>\n",
       "      <th>Rajasthan Royals</th>\n",
       "      <td>32.0</td>\n",
       "      <td>48.0</td>\n",
       "    </tr>\n",
       "    <tr>\n",
       "      <th>Rising Pune Supergiant</th>\n",
       "      <td>NaN</td>\n",
       "      <td>6.0</td>\n",
       "    </tr>\n",
       "    <tr>\n",
       "      <th>Rising Pune Supergiants</th>\n",
       "      <td>3.0</td>\n",
       "      <td>4.0</td>\n",
       "    </tr>\n",
       "    <tr>\n",
       "      <th>Royal Challengers Bangalore</th>\n",
       "      <td>20.0</td>\n",
       "      <td>61.0</td>\n",
       "    </tr>\n",
       "    <tr>\n",
       "      <th>Sunrisers Hyderabad</th>\n",
       "      <td>20.0</td>\n",
       "      <td>26.0</td>\n",
       "    </tr>\n",
       "  </tbody>\n",
       "</table>\n",
       "</div>"
      ],
      "text/plain": [
       "toss_decision                 bat  field\n",
       "toss_winner                             \n",
       "Chennai Super Kings          48.0   41.0\n",
       "Deccan Chargers              24.0   19.0\n",
       "Delhi Capitals                2.0    8.0\n",
       "Delhi Daredevils             29.0   51.0\n",
       "Gujarat Lions                 1.0   14.0\n",
       "Kings XI Punjab              26.0   55.0\n",
       "Kochi Tuskers Kerala          3.0    5.0\n",
       "Kolkata Knight Riders        30.0   62.0\n",
       "Mumbai Indians               44.0   54.0\n",
       "Pune Warriors                11.0    9.0\n",
       "Rajasthan Royals             32.0   48.0\n",
       "Rising Pune Supergiant        NaN    6.0\n",
       "Rising Pune Supergiants       3.0    4.0\n",
       "Royal Challengers Bangalore  20.0   61.0\n",
       "Sunrisers Hyderabad          20.0   26.0"
      ]
     },
     "execution_count": 36,
     "metadata": {},
     "output_type": "execute_result"
    }
   ],
   "source": [
    "toss_decision_counts = df2.groupby(['toss_winner', 'toss_decision']).size().reset_index(name='Count')\n",
    "toss_decision_pivot = toss_decision_counts.pivot(index='toss_winner', columns='toss_decision', values='Count')\n",
    "toss_decision_pivot"
   ]
  },
  {
   "cell_type": "markdown",
   "id": "c36e80c3",
   "metadata": {},
   "source": [
    "\n",
    "#### 25)Ratio between Total Matches and Win Matches"
   ]
  },
  {
   "cell_type": "code",
   "execution_count": 37,
   "id": "934dec5d",
   "metadata": {},
   "outputs": [
    {
     "data": {
      "text/plain": [
       "<Axes: xlabel='bat', ylabel='toss_winner'>"
      ]
     },
     "execution_count": 37,
     "metadata": {},
     "output_type": "execute_result"
    },
    {
     "data": {
      "image/png": "[encoded data removed]",
      "text/plain": [
       "<Figure size 640x480 with 1 Axes>"
      ]
     },
     "metadata": {},
     "output_type": "display_data"
    }
   ],
   "source": [
    "sns.barplot(data=toss_decision_pivot, x='bat', y=toss_decision_pivot.index, label='Bat')"
   ]
  },
  {
   "cell_type": "markdown",
   "id": "4243c3d1",
   "metadata": {},
   "source": [
    "\n",
    "#### 26) What is the choice of each team after winning the toss"
   ]
  },
  {
   "cell_type": "code",
   "execution_count": 38,
   "id": "530ed319",
   "metadata": {},
   "outputs": [
    {
     "data": {
      "text/plain": [
       "<Axes: xlabel='field', ylabel='toss_winner'>"
      ]
     },
     "execution_count": 38,
     "metadata": {},
     "output_type": "execute_result"
    },
    {
     "data": {
      "image/png": "[encoded data removed]",
      "text/plain": [
       "<Figure size 640x480 with 1 Axes>"
      ]
     },
     "metadata": {},
     "output_type": "display_data"
    }
   ],
   "source": [
    "sns.barplot(data=toss_decision_pivot, x='field', y=toss_decision_pivot.index, label='Field')"
   ]
  },
  {
   "cell_type": "code",
   "execution_count": null,
   "id": "cfe28009",
   "metadata": {},
   "outputs": [],
   "source": []
  }
 ],
 "metadata": {
  "kernelspec": {
   "display_name": "Python 3 (ipykernel)",
   "language": "python",
   "name": "python3"
  },
  "language_info": {
   "codemirror_mode": {
    "name": "ipython",
    "version": 3
   },
   "file_extension": ".py",
   "mimetype": "text/x-python",
   "name": "python",
   "nbconvert_exporter": "python",
   "pygments_lexer": "ipython3",
   "version": "3.12.1"
  }
 },
 "nbformat": 4,
 "nbformat_minor": 5
}
